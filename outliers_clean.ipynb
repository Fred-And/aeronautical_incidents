{
 "cells": [
  {
   "cell_type": "code",
   "execution_count": 55,
   "metadata": {},
   "outputs": [],
   "source": [
    "import plotly.express as px\n",
    "import pandas as pd\n",
    "import matplotlib.pyplot as plt"
   ]
  },
  {
   "cell_type": "code",
   "execution_count": 62,
   "metadata": {},
   "outputs": [
    {
     "data": {
      "text/plain": [
       "(5208, 22)"
      ]
     },
     "execution_count": 62,
     "metadata": {},
     "output_type": "execute_result"
    }
   ],
   "source": [
    "df = pd.read_csv('ocorrencias_aviacao.csv')\n",
    "\n",
    "df.shape"
   ]
  },
  {
   "cell_type": "code",
   "execution_count": 63,
   "metadata": {},
   "outputs": [
    {
     "data": {
      "text/plain": [
       "94"
      ]
     },
     "execution_count": 63,
     "metadata": {},
     "output_type": "execute_result"
    }
   ],
   "source": [
    "id_list_lon = df.loc[df['ocorrencia_longitude'] > -32.500].index.values.tolist()\n",
    "id_list_lat = df.loc[df['ocorrencia_latitude'] > 5.0900].index.values.tolist()\n",
    "\n",
    "merge_list =[]\n",
    "merge_list.extend(id_list_lon)\n",
    "merge_list.extend(id_list_lat)\n",
    "merge_list = list(dict.fromkeys(merge_list))\n",
    "\n",
    "len(merge_list)\n"
   ]
  },
  {
   "cell_type": "code",
   "execution_count": 64,
   "metadata": {},
   "outputs": [],
   "source": [
    "\n",
    "\n",
    "df.drop(merge_list,axis=0,inplace=True)\n",
    "#df.drop([id_list_lat],axis=0,inplace=True)"
   ]
  },
  {
   "cell_type": "code",
   "execution_count": 67,
   "metadata": {},
   "outputs": [],
   "source": [
    "df.to_csv('./ocorrencias_aeronauticas.csv')"
   ]
  }
 ],
 "metadata": {
  "kernelspec": {
   "display_name": "Python 3.10.4 ('acidentenv': venv)",
   "language": "python",
   "name": "python3"
  },
  "language_info": {
   "name": "python",
   "version": "3.10.4"
  },
  "orig_nbformat": 4,
  "vscode": {
   "interpreter": {
    "hash": "87697f79bf821c78fc051774f7e3584bc27be96bab122029823926ce69bff228"
   }
  }
 },
 "nbformat": 4,
 "nbformat_minor": 2
}
